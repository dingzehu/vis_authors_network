{
 "cells": [
  {
   "cell_type": "code",
   "execution_count": 15,
   "id": "88c89c25-052c-4c45-b195-b57fb3af4591",
   "metadata": {},
   "outputs": [],
   "source": [
    "import networkx as nx\n",
    "import pandas as pd\n",
    "import pickle as pk\n",
    "import numpy as np\n",
    "from scipy import sparse as sp\n",
    "\n",
    "\n",
    "import matplotlib as plt\n",
    "\n",
    "%matplotlib inline\n",
    "\n",
    "import seaborn as sns\n",
    "plt.style.use('seaborn-whitegrid')\n",
    "\n",
    "title_font = {'size':'18', 'color':'black', 'verticalalignment':'bottom',  'fontstyle':'bold'} \n",
    "axis_font = { 'size':'16'}"
   ]
  },
  {
   "cell_type": "code",
   "execution_count": 16,
   "id": "be8f85ab-bd21-48b8-a2f1-685e7348b66e",
   "metadata": {},
   "outputs": [],
   "source": [
    "#pd.set_option('display.max_rows', 100)\n",
    "#pd.set_option('display.max_colwidth', 100)\n",
    "import sys\n",
    "import numpy\n",
    "numpy.set_printoptions(threshold=sys.maxsize)\n",
    "\n",
    "authors = pd.read_csv(\"nips-19872020/authors.csv\")\n",
    "authors = authors.head(500)\n",
    "institutions = pd.read_csv(\"nips-19872020/institutions.csv\")\n",
    "papers = pd.read_csv(\"nips-19872020/papers.csv\")"
   ]
  },
  {
   "cell_type": "code",
   "execution_count": 17,
   "id": "bc6f47b3-747a-4ca1-9f35-bd16d0e2a7b8",
   "metadata": {},
   "outputs": [
    {
     "name": "stdout",
     "output_type": "stream",
     "text": [
      "The NIPS collection contains 117 papers from 497 authors.\n"
     ]
    }
   ],
   "source": [
    "print('The NIPS collection contains %s papers from %s authors.'%(len(authors.paper_index.unique()), len(authors.name.unique())))"
   ]
  },
  {
   "cell_type": "code",
   "execution_count": 18,
   "id": "6d60f238-dc80-4d2d-9139-0ceafe8e4848",
   "metadata": {},
   "outputs": [],
   "source": [
    "int_pid = dict(enumerate(list(authors.paper_index.unique())))\n",
    "int_aid = dict(enumerate(list(authors.name.unique())))\n",
    "\n",
    "pid_intid = {v:k for k,v in int_pid.items()}\n",
    "aid_intid = {v:k for k,v in int_aid.items()}"
   ]
  },
  {
   "cell_type": "code",
   "execution_count": 19,
   "id": "e52b0198-a24f-4592-8f7a-1ad18b6d8cd0",
   "metadata": {},
   "outputs": [],
   "source": [
    "ap_tuples = list(zip(authors.name, authors.paper_index))\n",
    "ap_int_tups =  [(aid_intid[i[0]], pid_intid[i[1]]) for i in ap_tuples]\n",
    "''' AP: matrix of author-paper, AP[i, j]=1 indicates that author i has published paper j '''\n",
    "AP = sp.csc_matrix((np.ones(len(ap_int_tups)), zip(*ap_int_tups)))"
   ]
  },
  {
   "cell_type": "code",
   "execution_count": 20,
   "id": "0f78d277-9c98-4fc8-993e-82d18e303dcc",
   "metadata": {},
   "outputs": [],
   "source": [
    "df = pd.DataFrame(ap_int_tups)"
   ]
  },
  {
   "cell_type": "code",
   "execution_count": 21,
   "id": "77d18a29-ee9e-4da5-a029-564828ed9729",
   "metadata": {},
   "outputs": [],
   "source": [
    "df['weight'] = 10\n",
    "df.columns = ['Source', 'Target', 'Weight']"
   ]
  },
  {
   "cell_type": "code",
   "execution_count": 22,
   "id": "a16ace30-4b7c-4bb4-8605-dc0790cee165",
   "metadata": {},
   "outputs": [
    {
     "data": {
      "text/html": [
       "<div>\n",
       "<style scoped>\n",
       "    .dataframe tbody tr th:only-of-type {\n",
       "        vertical-align: middle;\n",
       "    }\n",
       "\n",
       "    .dataframe tbody tr th {\n",
       "        vertical-align: top;\n",
       "    }\n",
       "\n",
       "    .dataframe thead th {\n",
       "        text-align: right;\n",
       "    }\n",
       "</style>\n",
       "<table border=\"1\" class=\"dataframe\">\n",
       "  <thead>\n",
       "    <tr style=\"text-align: right;\">\n",
       "      <th></th>\n",
       "      <th>Source</th>\n",
       "      <th>Target</th>\n",
       "      <th>Weight</th>\n",
       "    </tr>\n",
       "  </thead>\n",
       "  <tbody>\n",
       "    <tr>\n",
       "      <th>0</th>\n",
       "      <td>Seongmin Ok</td>\n",
       "      <td>Seongmin Ok</td>\n",
       "      <td>10</td>\n",
       "    </tr>\n",
       "    <tr>\n",
       "      <th>1</th>\n",
       "      <td>Sangnie Bhardwaj</td>\n",
       "      <td>Sangnie Bhardwaj</td>\n",
       "      <td>10</td>\n",
       "    </tr>\n",
       "    <tr>\n",
       "      <th>2</th>\n",
       "      <td>Ian Fischer</td>\n",
       "      <td>Sangnie Bhardwaj</td>\n",
       "      <td>10</td>\n",
       "    </tr>\n",
       "    <tr>\n",
       "      <th>3</th>\n",
       "      <td>Johannes Ballé</td>\n",
       "      <td>Sangnie Bhardwaj</td>\n",
       "      <td>10</td>\n",
       "    </tr>\n",
       "    <tr>\n",
       "      <th>4</th>\n",
       "      <td>Troy Chinen</td>\n",
       "      <td>Sangnie Bhardwaj</td>\n",
       "      <td>10</td>\n",
       "    </tr>\n",
       "    <tr>\n",
       "      <th>...</th>\n",
       "      <td>...</td>\n",
       "      <td>...</td>\n",
       "      <td>...</td>\n",
       "    </tr>\n",
       "    <tr>\n",
       "      <th>495</th>\n",
       "      <td>Bertrand Charpentier</td>\n",
       "      <td>Tianju Xue</td>\n",
       "      <td>10</td>\n",
       "    </tr>\n",
       "    <tr>\n",
       "      <th>496</th>\n",
       "      <td>Daniel Zügner</td>\n",
       "      <td>Tianju Xue</td>\n",
       "      <td>10</td>\n",
       "    </tr>\n",
       "    <tr>\n",
       "      <th>497</th>\n",
       "      <td>Stephan Günnemann</td>\n",
       "      <td>Tianju Xue</td>\n",
       "      <td>10</td>\n",
       "    </tr>\n",
       "    <tr>\n",
       "      <th>498</th>\n",
       "      <td>Johannes Bausch</td>\n",
       "      <td>Ryan P. Adams</td>\n",
       "      <td>10</td>\n",
       "    </tr>\n",
       "    <tr>\n",
       "      <th>499</th>\n",
       "      <td>Emmanouil-Vasileios Vlatakis-Gkaragkounis</td>\n",
       "      <td>Maryam Majzoubi</td>\n",
       "      <td>10</td>\n",
       "    </tr>\n",
       "  </tbody>\n",
       "</table>\n",
       "<p>500 rows × 3 columns</p>\n",
       "</div>"
      ],
      "text/plain": [
       "                                        Source            Target  Weight\n",
       "0                                  Seongmin Ok       Seongmin Ok      10\n",
       "1                             Sangnie Bhardwaj  Sangnie Bhardwaj      10\n",
       "2                                  Ian Fischer  Sangnie Bhardwaj      10\n",
       "3                               Johannes Ballé  Sangnie Bhardwaj      10\n",
       "4                                  Troy Chinen  Sangnie Bhardwaj      10\n",
       "..                                         ...               ...     ...\n",
       "495                       Bertrand Charpentier        Tianju Xue      10\n",
       "496                              Daniel Zügner        Tianju Xue      10\n",
       "497                          Stephan Günnemann        Tianju Xue      10\n",
       "498                            Johannes Bausch     Ryan P. Adams      10\n",
       "499  Emmanouil-Vasileios Vlatakis-Gkaragkounis   Maryam Majzoubi      10\n",
       "\n",
       "[500 rows x 3 columns]"
      ]
     },
     "execution_count": 22,
     "metadata": {},
     "output_type": "execute_result"
    }
   ],
   "source": [
    "df['Source'] = df['Source'].apply(lambda x: int_aid.get(x)).fillna('')\n",
    "df['Target'] = df['Target'].apply(lambda x: int_aid.get(x)).fillna('')\n",
    "df"
   ]
  },
  {
   "cell_type": "code",
   "execution_count": 13,
   "id": "d2c88ab2-87b5-47bf-a6fc-8320127adf3b",
   "metadata": {},
   "outputs": [
    {
     "name": "stdout",
     "output_type": "stream",
     "text": [
      "Requirement already satisfied: pyvis in /opt/conda/lib/python3.8/site-packages (0.1.9)\n",
      "Requirement already satisfied: ipython>=5.3.0 in /opt/conda/lib/python3.8/site-packages (from pyvis) (7.23.1)\n",
      "Requirement already satisfied: jinja2>=2.9.6 in /opt/conda/lib/python3.8/site-packages (from pyvis) (2.11.3)\n",
      "Requirement already satisfied: networkx>=1.11 in /opt/conda/lib/python3.8/site-packages (from pyvis) (2.3)\n",
      "Requirement already satisfied: jsonpickle>=1.4.1 in /opt/conda/lib/python3.8/site-packages (from pyvis) (2.0.0)\n",
      "Requirement already satisfied: decorator in /opt/conda/lib/python3.8/site-packages (from ipython>=5.3.0->pyvis) (5.0.7)\n",
      "Requirement already satisfied: pygments in /opt/conda/lib/python3.8/site-packages (from ipython>=5.3.0->pyvis) (2.9.0)\n",
      "Requirement already satisfied: setuptools>=18.5 in /opt/conda/lib/python3.8/site-packages (from ipython>=5.3.0->pyvis) (49.6.0.post20210108)\n",
      "Requirement already satisfied: jedi>=0.16 in /opt/conda/lib/python3.8/site-packages (from ipython>=5.3.0->pyvis) (0.18.0)\n",
      "Requirement already satisfied: prompt-toolkit!=3.0.0,!=3.0.1,<3.1.0,>=2.0.0 in /opt/conda/lib/python3.8/site-packages (from ipython>=5.3.0->pyvis) (3.0.18)\n",
      "Requirement already satisfied: backcall in /opt/conda/lib/python3.8/site-packages (from ipython>=5.3.0->pyvis) (0.2.0)\n",
      "Requirement already satisfied: pexpect>4.3 in /opt/conda/lib/python3.8/site-packages (from ipython>=5.3.0->pyvis) (4.8.0)\n",
      "Requirement already satisfied: pickleshare in /opt/conda/lib/python3.8/site-packages (from ipython>=5.3.0->pyvis) (0.7.5)\n",
      "Requirement already satisfied: matplotlib-inline in /opt/conda/lib/python3.8/site-packages (from ipython>=5.3.0->pyvis) (0.1.2)\n",
      "Requirement already satisfied: traitlets>=4.2 in /opt/conda/lib/python3.8/site-packages (from ipython>=5.3.0->pyvis) (5.0.5)\n",
      "Requirement already satisfied: parso<0.9.0,>=0.8.0 in /opt/conda/lib/python3.8/site-packages (from jedi>=0.16->ipython>=5.3.0->pyvis) (0.8.2)\n",
      "Requirement already satisfied: MarkupSafe>=0.23 in /opt/conda/lib/python3.8/site-packages (from jinja2>=2.9.6->pyvis) (1.1.1)\n",
      "Requirement already satisfied: ptyprocess>=0.5 in /opt/conda/lib/python3.8/site-packages (from pexpect>4.3->ipython>=5.3.0->pyvis) (0.7.0)\n",
      "Requirement already satisfied: wcwidth in /opt/conda/lib/python3.8/site-packages (from prompt-toolkit!=3.0.0,!=3.0.1,<3.1.0,>=2.0.0->ipython>=5.3.0->pyvis) (0.2.5)\n",
      "Requirement already satisfied: ipython-genutils in /opt/conda/lib/python3.8/site-packages (from traitlets>=4.2->ipython>=5.3.0->pyvis) (0.2.0)\n"
     ]
    }
   ],
   "source": [
    "!pip install pyvis\n",
    "from pyvis.network import Network\n",
    "net = Network()\n",
    "from pyvis.network import Network\n",
    "import pandas as pd\n"
   ]
  },
  {
   "cell_type": "code",
   "execution_count": 14,
   "id": "6b41ea01-9aef-46a8-ab4a-b43fb26cfa16",
   "metadata": {},
   "outputs": [],
   "source": [
    "from pyvis.network import Network\n",
    "import pandas as pd\n",
    "\n",
    "got_net = Network(height='750px', width='100%', bgcolor='#222222', font_color='white')\n",
    "\n",
    "# set the physics layout of the network\n",
    "got_net.barnes_hut()\n",
    "got_data = df\n",
    "\n",
    "sources = got_data['Source']\n",
    "targets = got_data['Target']\n",
    "weights = got_data['Weight']\n",
    "\n",
    "edge_data = zip(sources, targets, weights)\n",
    "\n",
    "for e in edge_data:\n",
    "    src = e[0]\n",
    "    dst = e[1]\n",
    "    w = e[2]\n",
    "\n",
    "    got_net.add_node(src, src, title=src)\n",
    "    got_net.add_node(dst, dst, title=dst)\n",
    "    got_net.add_edge(src, dst, value=w)\n",
    "\n",
    "neighbor_map = got_net.get_adj_list()\n",
    "\n",
    "# add neighbor data to node hover data\n",
    "for node in got_net.nodes:\n",
    "    node['title'] += ' Neighbors:<br>' + '<br>'.join(neighbor_map[node['id']])\n",
    "    node['value'] = len(neighbor_map[node['id']])\n",
    "\n",
    "got_net.show('graph.html')"
   ]
  },
  {
   "cell_type": "code",
   "execution_count": null,
   "id": "eee0f8f4-2628-474b-a808-780fcbe9e4f7",
   "metadata": {},
   "outputs": [],
   "source": []
  },
  {
   "cell_type": "code",
   "execution_count": null,
   "id": "e29c0f49-2c56-4baa-85fb-fb15bc2d03a9",
   "metadata": {},
   "outputs": [],
   "source": []
  }
 ],
 "metadata": {
  "kernelspec": {
   "display_name": "Python 3",
   "language": "python",
   "name": "python3"
  },
  "language_info": {
   "codemirror_mode": {
    "name": "ipython",
    "version": 3
   },
   "file_extension": ".py",
   "mimetype": "text/x-python",
   "name": "python",
   "nbconvert_exporter": "python",
   "pygments_lexer": "ipython3",
   "version": "3.8.8"
  }
 },
 "nbformat": 4,
 "nbformat_minor": 5
}
